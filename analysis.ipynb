{
  "nbformat": 4,
  "nbformat_minor": 0,
  "metadata": {
    "colab": {
      "name": "НИР.ipynb",
      "provenance": [],
      "mount_file_id": "1wI0aD4YSq5PLWhmpLGXMdD1570tCosb_",
      "authorship_tag": "ABX9TyMB0Ol86z/KaZl74Vuk4c8r",
      "include_colab_link": true
    },
    "kernelspec": {
      "name": "python3",
      "display_name": "Python 3"
    },
    "language_info": {
      "name": "python"
    }
  },
  "cells": [
    {
      "cell_type": "markdown",
      "metadata": {
        "id": "view-in-github",
        "colab_type": "text"
      },
      "source": [
        "<a href=\"https://colab.research.google.com/github/LuckyHorseshoe-chan/DatasetAnalysis/blob/main/analysis.ipynb\" target=\"_parent\"><img src=\"https://colab.research.google.com/assets/colab-badge.svg\" alt=\"Open In Colab\"/></a>"
      ]
    },
    {
      "cell_type": "markdown",
      "source": [
        "Цель анализа – узнать, как личные признаки влияют на зарплату на каждой должности. Для этого будем использовать таблицу employees, которая дана в csv-формате. В данном случае личные признаки – пол и возраст. Предположим, что зарплаты стажёров-исследователей, младших научных сотрудников и научных сотрудников не сильно зависят от пола и возраста, а у более важных должностей – старших, главных и ведущих научных сотрудников, - личные признаки имеют значение."
      ],
      "metadata": {
        "id": "vShcgaJi2xzm"
      }
    },
    {
      "cell_type": "markdown",
      "source": [
        "Импортируем необходимые модули:"
      ],
      "metadata": {
        "id": "2burQdME3YCI"
      }
    },
    {
      "cell_type": "code",
      "execution_count": null,
      "metadata": {
        "id": "327km8f5IgQm"
      },
      "outputs": [],
      "source": [
        "import numpy as np\n",
        "import pandas as pd\n",
        "import scipy.stats as sps\n",
        "import ipywidgets as widgets\n",
        "import matplotlib.pyplot as plt\n",
        "%matplotlib inline\n",
        "\n",
        "import warnings\n",
        "warnings.simplefilter(\"ignore\", FutureWarning)"
      ]
    },
    {
      "cell_type": "markdown",
      "source": [
        "Загрузим данные:"
      ],
      "metadata": {
        "id": "YjVp72UQ2wR1"
      }
    },
    {
      "cell_type": "code",
      "source": [
        "# изменить путь, если диск называется по-другому\n",
        "employees = pd.read_csv(filepath_or_buffer=\"./drive/MyDrive/НИР/employees.csv\")"
      ],
      "metadata": {
        "id": "8bwXzES0Io7H"
      },
      "execution_count": null,
      "outputs": []
    },
    {
      "cell_type": "markdown",
      "source": [
        "Посмотрим, как отображаются данные, и информацию о них"
      ],
      "metadata": {
        "id": "m--vZdK83cDs"
      }
    },
    {
      "cell_type": "code",
      "source": [
        "employees.head()"
      ],
      "metadata": {
        "colab": {
          "base_uri": "https://localhost:8080/",
          "height": 206
        },
        "id": "WrFSwkB8fN8b",
        "outputId": "eb22be5c-2aea-43b5-c724-850e3a28c322"
      },
      "execution_count": null,
      "outputs": [
        {
          "output_type": "execute_result",
          "data": {
            "text/html": [
              "\n",
              "  <div id=\"df-165b1d55-3a56-42d4-b577-3655f5444453\">\n",
              "    <div class=\"colab-df-container\">\n",
              "      <div>\n",
              "<style scoped>\n",
              "    .dataframe tbody tr th:only-of-type {\n",
              "        vertical-align: middle;\n",
              "    }\n",
              "\n",
              "    .dataframe tbody tr th {\n",
              "        vertical-align: top;\n",
              "    }\n",
              "\n",
              "    .dataframe thead th {\n",
              "        text-align: right;\n",
              "    }\n",
              "</style>\n",
              "<table border=\"1\" class=\"dataframe\">\n",
              "  <thead>\n",
              "    <tr style=\"text-align: right;\">\n",
              "      <th></th>\n",
              "      <th>ID_employee</th>\n",
              "      <th>Пол</th>\n",
              "      <th>Возраст</th>\n",
              "      <th>Стаж</th>\n",
              "      <th>Должность</th>\n",
              "      <th>Зарплата</th>\n",
              "    </tr>\n",
              "  </thead>\n",
              "  <tbody>\n",
              "    <tr>\n",
              "      <th>0</th>\n",
              "      <td>1</td>\n",
              "      <td>муж</td>\n",
              "      <td>68.0</td>\n",
              "      <td>10</td>\n",
              "      <td>младший научный сотрудник</td>\n",
              "      <td>70000.0</td>\n",
              "    </tr>\n",
              "    <tr>\n",
              "      <th>1</th>\n",
              "      <td>2</td>\n",
              "      <td>жен</td>\n",
              "      <td>42.0</td>\n",
              "      <td>7</td>\n",
              "      <td>научный сотрудник</td>\n",
              "      <td>80000.0</td>\n",
              "    </tr>\n",
              "    <tr>\n",
              "      <th>2</th>\n",
              "      <td>3</td>\n",
              "      <td>жен</td>\n",
              "      <td>34.0</td>\n",
              "      <td>63</td>\n",
              "      <td>ведущий научный сотрудник</td>\n",
              "      <td>190000.0</td>\n",
              "    </tr>\n",
              "    <tr>\n",
              "      <th>3</th>\n",
              "      <td>4</td>\n",
              "      <td>муж</td>\n",
              "      <td>75.0</td>\n",
              "      <td>15</td>\n",
              "      <td>младший научный сотрудник</td>\n",
              "      <td>120000.0</td>\n",
              "    </tr>\n",
              "    <tr>\n",
              "      <th>4</th>\n",
              "      <td>5</td>\n",
              "      <td>жен</td>\n",
              "      <td>76.0</td>\n",
              "      <td>38</td>\n",
              "      <td>младший научный сотрудник</td>\n",
              "      <td>90000.0</td>\n",
              "    </tr>\n",
              "  </tbody>\n",
              "</table>\n",
              "</div>\n",
              "      <button class=\"colab-df-convert\" onclick=\"convertToInteractive('df-165b1d55-3a56-42d4-b577-3655f5444453')\"\n",
              "              title=\"Convert this dataframe to an interactive table.\"\n",
              "              style=\"display:none;\">\n",
              "        \n",
              "  <svg xmlns=\"http://www.w3.org/2000/svg\" height=\"24px\"viewBox=\"0 0 24 24\"\n",
              "       width=\"24px\">\n",
              "    <path d=\"M0 0h24v24H0V0z\" fill=\"none\"/>\n",
              "    <path d=\"M18.56 5.44l.94 2.06.94-2.06 2.06-.94-2.06-.94-.94-2.06-.94 2.06-2.06.94zm-11 1L8.5 8.5l.94-2.06 2.06-.94-2.06-.94L8.5 2.5l-.94 2.06-2.06.94zm10 10l.94 2.06.94-2.06 2.06-.94-2.06-.94-.94-2.06-.94 2.06-2.06.94z\"/><path d=\"M17.41 7.96l-1.37-1.37c-.4-.4-.92-.59-1.43-.59-.52 0-1.04.2-1.43.59L10.3 9.45l-7.72 7.72c-.78.78-.78 2.05 0 2.83L4 21.41c.39.39.9.59 1.41.59.51 0 1.02-.2 1.41-.59l7.78-7.78 2.81-2.81c.8-.78.8-2.07 0-2.86zM5.41 20L4 18.59l7.72-7.72 1.47 1.35L5.41 20z\"/>\n",
              "  </svg>\n",
              "      </button>\n",
              "      \n",
              "  <style>\n",
              "    .colab-df-container {\n",
              "      display:flex;\n",
              "      flex-wrap:wrap;\n",
              "      gap: 12px;\n",
              "    }\n",
              "\n",
              "    .colab-df-convert {\n",
              "      background-color: #E8F0FE;\n",
              "      border: none;\n",
              "      border-radius: 50%;\n",
              "      cursor: pointer;\n",
              "      display: none;\n",
              "      fill: #1967D2;\n",
              "      height: 32px;\n",
              "      padding: 0 0 0 0;\n",
              "      width: 32px;\n",
              "    }\n",
              "\n",
              "    .colab-df-convert:hover {\n",
              "      background-color: #E2EBFA;\n",
              "      box-shadow: 0px 1px 2px rgba(60, 64, 67, 0.3), 0px 1px 3px 1px rgba(60, 64, 67, 0.15);\n",
              "      fill: #174EA6;\n",
              "    }\n",
              "\n",
              "    [theme=dark] .colab-df-convert {\n",
              "      background-color: #3B4455;\n",
              "      fill: #D2E3FC;\n",
              "    }\n",
              "\n",
              "    [theme=dark] .colab-df-convert:hover {\n",
              "      background-color: #434B5C;\n",
              "      box-shadow: 0px 1px 3px 1px rgba(0, 0, 0, 0.15);\n",
              "      filter: drop-shadow(0px 1px 2px rgba(0, 0, 0, 0.3));\n",
              "      fill: #FFFFFF;\n",
              "    }\n",
              "  </style>\n",
              "\n",
              "      <script>\n",
              "        const buttonEl =\n",
              "          document.querySelector('#df-165b1d55-3a56-42d4-b577-3655f5444453 button.colab-df-convert');\n",
              "        buttonEl.style.display =\n",
              "          google.colab.kernel.accessAllowed ? 'block' : 'none';\n",
              "\n",
              "        async function convertToInteractive(key) {\n",
              "          const element = document.querySelector('#df-165b1d55-3a56-42d4-b577-3655f5444453');\n",
              "          const dataTable =\n",
              "            await google.colab.kernel.invokeFunction('convertToInteractive',\n",
              "                                                     [key], {});\n",
              "          if (!dataTable) return;\n",
              "\n",
              "          const docLinkHtml = 'Like what you see? Visit the ' +\n",
              "            '<a target=\"_blank\" href=https://colab.research.google.com/notebooks/data_table.ipynb>data table notebook</a>'\n",
              "            + ' to learn more about interactive tables.';\n",
              "          element.innerHTML = '';\n",
              "          dataTable['output_type'] = 'display_data';\n",
              "          await google.colab.output.renderOutput(dataTable, element);\n",
              "          const docLink = document.createElement('div');\n",
              "          docLink.innerHTML = docLinkHtml;\n",
              "          element.appendChild(docLink);\n",
              "        }\n",
              "      </script>\n",
              "    </div>\n",
              "  </div>\n",
              "  "
            ],
            "text/plain": [
              "   ID_employee  Пол  Возраст  Стаж                  Должность  Зарплата\n",
              "0            1  муж     68.0    10  младший научный сотрудник   70000.0\n",
              "1            2  жен     42.0     7          научный сотрудник   80000.0\n",
              "2            3  жен     34.0    63  ведущий научный сотрудник  190000.0\n",
              "3            4  муж     75.0    15  младший научный сотрудник  120000.0\n",
              "4            5  жен     76.0    38  младший научный сотрудник   90000.0"
            ]
          },
          "metadata": {},
          "execution_count": 3
        }
      ]
    },
    {
      "cell_type": "code",
      "source": [
        "employees.info()"
      ],
      "metadata": {
        "id": "9orgS8lGsBqI",
        "colab": {
          "base_uri": "https://localhost:8080/"
        },
        "outputId": "b300543d-60b1-46b9-97a7-6874865e7ba3"
      },
      "execution_count": null,
      "outputs": [
        {
          "output_type": "stream",
          "name": "stdout",
          "text": [
            "<class 'pandas.core.frame.DataFrame'>\n",
            "RangeIndex: 1200 entries, 0 to 1199\n",
            "Data columns (total 6 columns):\n",
            " #   Column       Non-Null Count  Dtype  \n",
            "---  ------       --------------  -----  \n",
            " 0   ID_employee  1200 non-null   int64  \n",
            " 1   Пол          1200 non-null   object \n",
            " 2   Возраст      1196 non-null   float64\n",
            " 3   Стаж         1200 non-null   int64  \n",
            " 4   Должность    1200 non-null   object \n",
            " 5   Зарплата     1193 non-null   float64\n",
            "dtypes: float64(2), int64(2), object(2)\n",
            "memory usage: 56.4+ KB\n"
          ]
        }
      ]
    },
    {
      "cell_type": "markdown",
      "source": [
        "Видим, что в столбцах “Возраст” и “Зарплата” есть пустые значения. Избавимся от них:"
      ],
      "metadata": {
        "id": "bK78yMFu3oY0"
      }
    },
    {
      "cell_type": "code",
      "source": [
        "employees = employees.dropna(how='any')\n",
        "employees.info()"
      ],
      "metadata": {
        "colab": {
          "base_uri": "https://localhost:8080/"
        },
        "id": "H-LwaB4kuBQt",
        "outputId": "ac8e6068-7099-4489-f9e3-cd15558633eb"
      },
      "execution_count": null,
      "outputs": [
        {
          "output_type": "stream",
          "name": "stdout",
          "text": [
            "<class 'pandas.core.frame.DataFrame'>\n",
            "Int64Index: 1189 entries, 0 to 1199\n",
            "Data columns (total 6 columns):\n",
            " #   Column       Non-Null Count  Dtype  \n",
            "---  ------       --------------  -----  \n",
            " 0   ID_employee  1189 non-null   int64  \n",
            " 1   Пол          1189 non-null   object \n",
            " 2   Возраст      1189 non-null   float64\n",
            " 3   Стаж         1189 non-null   int64  \n",
            " 4   Должность    1189 non-null   object \n",
            " 5   Зарплата     1189 non-null   float64\n",
            "dtypes: float64(2), int64(2), object(2)\n",
            "memory usage: 65.0+ KB\n"
          ]
        }
      ]
    },
    {
      "cell_type": "markdown",
      "source": [
        "Преобразуем тип столбцов “Возраст” и “Зарплата” к int:"
      ],
      "metadata": {
        "id": "-pySXXNC306_"
      }
    },
    {
      "cell_type": "code",
      "source": [
        "employees['Возраст'] = employees['Возраст'].astype(int)\n",
        "employees['Зарплата'] = employees['Зарплата'].astype(int)\n",
        "employees.info()"
      ],
      "metadata": {
        "colab": {
          "base_uri": "https://localhost:8080/"
        },
        "id": "Z4qWfe9-6g6s",
        "outputId": "f9c16b62-dd77-4742-ed73-97635b368c84"
      },
      "execution_count": null,
      "outputs": [
        {
          "output_type": "stream",
          "name": "stdout",
          "text": [
            "<class 'pandas.core.frame.DataFrame'>\n",
            "Int64Index: 1189 entries, 0 to 1199\n",
            "Data columns (total 6 columns):\n",
            " #   Column       Non-Null Count  Dtype \n",
            "---  ------       --------------  ----- \n",
            " 0   ID_employee  1189 non-null   int64 \n",
            " 1   Пол          1189 non-null   object\n",
            " 2   Возраст      1189 non-null   int64 \n",
            " 3   Стаж         1189 non-null   int64 \n",
            " 4   Должность    1189 non-null   object\n",
            " 5   Зарплата     1189 non-null   int64 \n",
            "dtypes: int64(4), object(2)\n",
            "memory usage: 65.0+ KB\n"
          ]
        },
        {
          "output_type": "execute_result",
          "data": {
            "text/plain": [
              "pandas.core.series.Series"
            ]
          },
          "metadata": {},
          "execution_count": 6
        }
      ]
    },
    {
      "cell_type": "markdown",
      "source": [
        "Сделаем копию исправленного датафрейма empl и в неё добавим столбец с классификацией возрастных категорий age_cat:"
      ],
      "metadata": {
        "id": "3dqt-Qlb4G6q"
      }
    },
    {
      "cell_type": "code",
      "source": [
        "age_cat = {2: '20-29', 3: '30-39', 4: '40-49', 5: '50-59', 6: '60-69', 7: '70-79', 8: '80+', 9: '80+'}\n",
        "empl = employees\n",
        "empl['age_cat'] = empl['Возраст'] // 10\n",
        "for id in empl['ID_employee']:\n",
        "  empl['age_cat'][id-1] = age_cat[empl['age_cat'][id-1]]\n",
        "empl.head(15)"
      ],
      "metadata": {
        "colab": {
          "base_uri": "https://localhost:8080/",
          "height": 693
        },
        "id": "46CmW5ve0gZ_",
        "outputId": "a9715abe-0024-49b3-b333-5bf7e859b0d3"
      },
      "execution_count": null,
      "outputs": [
        {
          "output_type": "stream",
          "name": "stderr",
          "text": [
            "/usr/local/lib/python3.7/dist-packages/ipykernel_launcher.py:5: SettingWithCopyWarning: \n",
            "A value is trying to be set on a copy of a slice from a DataFrame\n",
            "\n",
            "See the caveats in the documentation: https://pandas.pydata.org/pandas-docs/stable/user_guide/indexing.html#returning-a-view-versus-a-copy\n",
            "  \"\"\"\n",
            "/usr/local/lib/python3.7/dist-packages/pandas/core/indexing.py:670: SettingWithCopyWarning: \n",
            "A value is trying to be set on a copy of a slice from a DataFrame\n",
            "\n",
            "See the caveats in the documentation: https://pandas.pydata.org/pandas-docs/stable/user_guide/indexing.html#returning-a-view-versus-a-copy\n",
            "  iloc._setitem_with_indexer(indexer, value)\n"
          ]
        },
        {
          "output_type": "execute_result",
          "data": {
            "text/html": [
              "<div>\n",
              "<style scoped>\n",
              "    .dataframe tbody tr th:only-of-type {\n",
              "        vertical-align: middle;\n",
              "    }\n",
              "\n",
              "    .dataframe tbody tr th {\n",
              "        vertical-align: top;\n",
              "    }\n",
              "\n",
              "    .dataframe thead th {\n",
              "        text-align: right;\n",
              "    }\n",
              "</style>\n",
              "<table border=\"1\" class=\"dataframe\">\n",
              "  <thead>\n",
              "    <tr style=\"text-align: right;\">\n",
              "      <th></th>\n",
              "      <th>ID_employee</th>\n",
              "      <th>Пол</th>\n",
              "      <th>Возраст</th>\n",
              "      <th>Стаж</th>\n",
              "      <th>Должность</th>\n",
              "      <th>Зарплата</th>\n",
              "      <th>age_cat</th>\n",
              "    </tr>\n",
              "  </thead>\n",
              "  <tbody>\n",
              "    <tr>\n",
              "      <th>0</th>\n",
              "      <td>1</td>\n",
              "      <td>муж</td>\n",
              "      <td>68</td>\n",
              "      <td>10</td>\n",
              "      <td>младший научный сотрудник</td>\n",
              "      <td>70000</td>\n",
              "      <td>60-69</td>\n",
              "    </tr>\n",
              "    <tr>\n",
              "      <th>1</th>\n",
              "      <td>2</td>\n",
              "      <td>жен</td>\n",
              "      <td>42</td>\n",
              "      <td>7</td>\n",
              "      <td>научный сотрудник</td>\n",
              "      <td>80000</td>\n",
              "      <td>40-49</td>\n",
              "    </tr>\n",
              "    <tr>\n",
              "      <th>2</th>\n",
              "      <td>3</td>\n",
              "      <td>жен</td>\n",
              "      <td>34</td>\n",
              "      <td>63</td>\n",
              "      <td>ведущий научный сотрудник</td>\n",
              "      <td>190000</td>\n",
              "      <td>30-39</td>\n",
              "    </tr>\n",
              "    <tr>\n",
              "      <th>3</th>\n",
              "      <td>4</td>\n",
              "      <td>муж</td>\n",
              "      <td>75</td>\n",
              "      <td>15</td>\n",
              "      <td>младший научный сотрудник</td>\n",
              "      <td>120000</td>\n",
              "      <td>70-79</td>\n",
              "    </tr>\n",
              "    <tr>\n",
              "      <th>4</th>\n",
              "      <td>5</td>\n",
              "      <td>жен</td>\n",
              "      <td>76</td>\n",
              "      <td>38</td>\n",
              "      <td>младший научный сотрудник</td>\n",
              "      <td>90000</td>\n",
              "      <td>70-79</td>\n",
              "    </tr>\n",
              "    <tr>\n",
              "      <th>5</th>\n",
              "      <td>6</td>\n",
              "      <td>жен</td>\n",
              "      <td>30</td>\n",
              "      <td>37</td>\n",
              "      <td>научный сотрудник</td>\n",
              "      <td>100000</td>\n",
              "      <td>30-39</td>\n",
              "    </tr>\n",
              "    <tr>\n",
              "      <th>6</th>\n",
              "      <td>7</td>\n",
              "      <td>муж</td>\n",
              "      <td>62</td>\n",
              "      <td>9</td>\n",
              "      <td>старший научный сотрудник</td>\n",
              "      <td>20000</td>\n",
              "      <td>60-69</td>\n",
              "    </tr>\n",
              "    <tr>\n",
              "      <th>7</th>\n",
              "      <td>8</td>\n",
              "      <td>муж</td>\n",
              "      <td>68</td>\n",
              "      <td>44</td>\n",
              "      <td>ведущий научный сотрудник</td>\n",
              "      <td>60000</td>\n",
              "      <td>60-69</td>\n",
              "    </tr>\n",
              "    <tr>\n",
              "      <th>8</th>\n",
              "      <td>9</td>\n",
              "      <td>муж</td>\n",
              "      <td>70</td>\n",
              "      <td>41</td>\n",
              "      <td>старший научный сотрудник</td>\n",
              "      <td>20000</td>\n",
              "      <td>70-79</td>\n",
              "    </tr>\n",
              "    <tr>\n",
              "      <th>9</th>\n",
              "      <td>10</td>\n",
              "      <td>жен</td>\n",
              "      <td>62</td>\n",
              "      <td>54</td>\n",
              "      <td>научный сотрудник</td>\n",
              "      <td>170000</td>\n",
              "      <td>60-69</td>\n",
              "    </tr>\n",
              "    <tr>\n",
              "      <th>11</th>\n",
              "      <td>12</td>\n",
              "      <td>жен</td>\n",
              "      <td>59</td>\n",
              "      <td>41</td>\n",
              "      <td>ведущий научный сотрудник</td>\n",
              "      <td>110000</td>\n",
              "      <td>50-59</td>\n",
              "    </tr>\n",
              "    <tr>\n",
              "      <th>12</th>\n",
              "      <td>13</td>\n",
              "      <td>муж</td>\n",
              "      <td>78</td>\n",
              "      <td>10</td>\n",
              "      <td>старший научный сотрудник</td>\n",
              "      <td>180000</td>\n",
              "      <td>70-79</td>\n",
              "    </tr>\n",
              "    <tr>\n",
              "      <th>14</th>\n",
              "      <td>15</td>\n",
              "      <td>жен</td>\n",
              "      <td>88</td>\n",
              "      <td>2</td>\n",
              "      <td>научный сотрудник</td>\n",
              "      <td>130000</td>\n",
              "      <td>80+</td>\n",
              "    </tr>\n",
              "    <tr>\n",
              "      <th>15</th>\n",
              "      <td>16</td>\n",
              "      <td>жен</td>\n",
              "      <td>56</td>\n",
              "      <td>10</td>\n",
              "      <td>ведущий научный сотрудник</td>\n",
              "      <td>160000</td>\n",
              "      <td>50-59</td>\n",
              "    </tr>\n",
              "    <tr>\n",
              "      <th>16</th>\n",
              "      <td>17</td>\n",
              "      <td>муж</td>\n",
              "      <td>49</td>\n",
              "      <td>10</td>\n",
              "      <td>научный сотрудник</td>\n",
              "      <td>70000</td>\n",
              "      <td>40-49</td>\n",
              "    </tr>\n",
              "  </tbody>\n",
              "</table>\n",
              "</div>"
            ],
            "text/plain": [
              "    ID_employee  Пол  Возраст  ...                  Должность Зарплата  age_cat\n",
              "0             1  муж       68  ...  младший научный сотрудник    70000    60-69\n",
              "1             2  жен       42  ...          научный сотрудник    80000    40-49\n",
              "2             3  жен       34  ...  ведущий научный сотрудник   190000    30-39\n",
              "3             4  муж       75  ...  младший научный сотрудник   120000    70-79\n",
              "4             5  жен       76  ...  младший научный сотрудник    90000    70-79\n",
              "5             6  жен       30  ...          научный сотрудник   100000    30-39\n",
              "6             7  муж       62  ...  старший научный сотрудник    20000    60-69\n",
              "7             8  муж       68  ...  ведущий научный сотрудник    60000    60-69\n",
              "8             9  муж       70  ...  старший научный сотрудник    20000    70-79\n",
              "9            10  жен       62  ...          научный сотрудник   170000    60-69\n",
              "11           12  жен       59  ...  ведущий научный сотрудник   110000    50-59\n",
              "12           13  муж       78  ...  старший научный сотрудник   180000    70-79\n",
              "14           15  жен       88  ...          научный сотрудник   130000      80+\n",
              "15           16  жен       56  ...  ведущий научный сотрудник   160000    50-59\n",
              "16           17  муж       49  ...          научный сотрудник    70000    40-49\n",
              "\n",
              "[15 rows x 7 columns]"
            ]
          },
          "metadata": {},
          "execution_count": 150
        }
      ]
    },
    {
      "cell_type": "markdown",
      "source": [
        "Создадим датафрейм piv_empl с информацией о распределении средней зарплаты по должностям, полу и возрастным категориям. "
      ],
      "metadata": {
        "id": "sTN-46514STS"
      }
    },
    {
      "cell_type": "code",
      "source": [
        "piv_empl = pd.pivot_table(empl, \n",
        "               values='Зарплата', \n",
        "               index=['Пол', 'age_cat'],\n",
        "               columns=['Должность'], \n",
        "               aggfunc=np.mean)"
      ],
      "metadata": {
        "id": "ovPbsbCx6OgU"
      },
      "execution_count": null,
      "outputs": []
    },
    {
      "cell_type": "code",
      "source": [
        "piv_empl"
      ],
      "metadata": {
        "colab": {
          "base_uri": "https://localhost:8080/",
          "height": 520
        },
        "id": "uDNn_LHFJBvL",
        "outputId": "887e25da-78ff-4185-fae1-371611cbd5d6"
      },
      "execution_count": null,
      "outputs": [
        {
          "output_type": "execute_result",
          "data": {
            "text/html": [
              "<div>\n",
              "<style scoped>\n",
              "    .dataframe tbody tr th:only-of-type {\n",
              "        vertical-align: middle;\n",
              "    }\n",
              "\n",
              "    .dataframe tbody tr th {\n",
              "        vertical-align: top;\n",
              "    }\n",
              "\n",
              "    .dataframe thead th {\n",
              "        text-align: right;\n",
              "    }\n",
              "</style>\n",
              "<table border=\"1\" class=\"dataframe\">\n",
              "  <thead>\n",
              "    <tr style=\"text-align: right;\">\n",
              "      <th></th>\n",
              "      <th>Должность</th>\n",
              "      <th>ведущий научный сотрудник</th>\n",
              "      <th>главный научный сотрудник</th>\n",
              "      <th>младший научный сотрудник</th>\n",
              "      <th>научный сотрудник</th>\n",
              "      <th>стажёр-исследователь</th>\n",
              "      <th>старший научный сотрудник</th>\n",
              "    </tr>\n",
              "    <tr>\n",
              "      <th>Пол</th>\n",
              "      <th>age_cat</th>\n",
              "      <th></th>\n",
              "      <th></th>\n",
              "      <th></th>\n",
              "      <th></th>\n",
              "      <th></th>\n",
              "      <th></th>\n",
              "    </tr>\n",
              "  </thead>\n",
              "  <tbody>\n",
              "    <tr>\n",
              "      <th rowspan=\"7\" valign=\"top\">жен</th>\n",
              "      <th>20-29</th>\n",
              "      <td>128000.000000</td>\n",
              "      <td>109411.764706</td>\n",
              "      <td>103000.000000</td>\n",
              "      <td>116363.636364</td>\n",
              "      <td>110833.333333</td>\n",
              "      <td>94400.000000</td>\n",
              "    </tr>\n",
              "    <tr>\n",
              "      <th>30-39</th>\n",
              "      <td>108421.052632</td>\n",
              "      <td>106363.636364</td>\n",
              "      <td>86363.636364</td>\n",
              "      <td>96190.476190</td>\n",
              "      <td>134545.454545</td>\n",
              "      <td>125000.000000</td>\n",
              "    </tr>\n",
              "    <tr>\n",
              "      <th>40-49</th>\n",
              "      <td>129444.444444</td>\n",
              "      <td>95000.000000</td>\n",
              "      <td>111666.666667</td>\n",
              "      <td>88571.428571</td>\n",
              "      <td>103529.411765</td>\n",
              "      <td>107777.777778</td>\n",
              "    </tr>\n",
              "    <tr>\n",
              "      <th>50-59</th>\n",
              "      <td>120000.000000</td>\n",
              "      <td>96315.789474</td>\n",
              "      <td>96470.588235</td>\n",
              "      <td>109166.666667</td>\n",
              "      <td>114666.666667</td>\n",
              "      <td>74545.454545</td>\n",
              "    </tr>\n",
              "    <tr>\n",
              "      <th>60-69</th>\n",
              "      <td>122222.222222</td>\n",
              "      <td>105625.000000</td>\n",
              "      <td>88571.428571</td>\n",
              "      <td>100000.000000</td>\n",
              "      <td>93750.000000</td>\n",
              "      <td>98571.428571</td>\n",
              "    </tr>\n",
              "    <tr>\n",
              "      <th>70-79</th>\n",
              "      <td>68571.428571</td>\n",
              "      <td>110714.285714</td>\n",
              "      <td>94545.454545</td>\n",
              "      <td>89375.000000</td>\n",
              "      <td>100833.333333</td>\n",
              "      <td>116923.076923</td>\n",
              "    </tr>\n",
              "    <tr>\n",
              "      <th>80+</th>\n",
              "      <td>86666.666667</td>\n",
              "      <td>108888.888889</td>\n",
              "      <td>111333.333333</td>\n",
              "      <td>101052.631579</td>\n",
              "      <td>117500.000000</td>\n",
              "      <td>112500.000000</td>\n",
              "    </tr>\n",
              "    <tr>\n",
              "      <th rowspan=\"7\" valign=\"top\">муж</th>\n",
              "      <th>20-29</th>\n",
              "      <td>100000.000000</td>\n",
              "      <td>103636.363636</td>\n",
              "      <td>116666.666667</td>\n",
              "      <td>121428.571429</td>\n",
              "      <td>92500.000000</td>\n",
              "      <td>96363.636364</td>\n",
              "    </tr>\n",
              "    <tr>\n",
              "      <th>30-39</th>\n",
              "      <td>105000.000000</td>\n",
              "      <td>125000.000000</td>\n",
              "      <td>102222.222222</td>\n",
              "      <td>84000.000000</td>\n",
              "      <td>101666.666667</td>\n",
              "      <td>121176.470588</td>\n",
              "    </tr>\n",
              "    <tr>\n",
              "      <th>40-49</th>\n",
              "      <td>110000.000000</td>\n",
              "      <td>98461.538462</td>\n",
              "      <td>107272.727273</td>\n",
              "      <td>117500.000000</td>\n",
              "      <td>110000.000000</td>\n",
              "      <td>60000.000000</td>\n",
              "    </tr>\n",
              "    <tr>\n",
              "      <th>50-59</th>\n",
              "      <td>120555.555556</td>\n",
              "      <td>111875.000000</td>\n",
              "      <td>113529.411765</td>\n",
              "      <td>106470.588235</td>\n",
              "      <td>110666.666667</td>\n",
              "      <td>85000.000000</td>\n",
              "    </tr>\n",
              "    <tr>\n",
              "      <th>60-69</th>\n",
              "      <td>98461.538462</td>\n",
              "      <td>95333.333333</td>\n",
              "      <td>110000.000000</td>\n",
              "      <td>124545.454545</td>\n",
              "      <td>102857.142857</td>\n",
              "      <td>97692.307692</td>\n",
              "    </tr>\n",
              "    <tr>\n",
              "      <th>70-79</th>\n",
              "      <td>113333.333333</td>\n",
              "      <td>113684.210526</td>\n",
              "      <td>111176.470588</td>\n",
              "      <td>102105.263158</td>\n",
              "      <td>106250.000000</td>\n",
              "      <td>104400.000000</td>\n",
              "    </tr>\n",
              "    <tr>\n",
              "      <th>80+</th>\n",
              "      <td>130625.000000</td>\n",
              "      <td>107000.000000</td>\n",
              "      <td>100000.000000</td>\n",
              "      <td>103888.888889</td>\n",
              "      <td>115714.285714</td>\n",
              "      <td>102000.000000</td>\n",
              "    </tr>\n",
              "  </tbody>\n",
              "</table>\n",
              "</div>"
            ],
            "text/plain": [
              "Должность    ведущий научный сотрудник  ...  старший научный сотрудник\n",
              "Пол age_cat                             ...                           \n",
              "жен 20-29                128000.000000  ...               94400.000000\n",
              "    30-39                108421.052632  ...              125000.000000\n",
              "    40-49                129444.444444  ...              107777.777778\n",
              "    50-59                120000.000000  ...               74545.454545\n",
              "    60-69                122222.222222  ...               98571.428571\n",
              "    70-79                 68571.428571  ...              116923.076923\n",
              "    80+                   86666.666667  ...              112500.000000\n",
              "муж 20-29                100000.000000  ...               96363.636364\n",
              "    30-39                105000.000000  ...              121176.470588\n",
              "    40-49                110000.000000  ...               60000.000000\n",
              "    50-59                120555.555556  ...               85000.000000\n",
              "    60-69                 98461.538462  ...               97692.307692\n",
              "    70-79                113333.333333  ...              104400.000000\n",
              "    80+                  130625.000000  ...              102000.000000\n",
              "\n",
              "[14 rows x 6 columns]"
            ]
          },
          "metadata": {},
          "execution_count": 153
        }
      ]
    },
    {
      "cell_type": "markdown",
      "source": [
        "Таблица получилась объёмная, и для визуализации придётся строить много графиков, поэтому упростим выборку, оставив распределение средней зарплаты по должностям и возрастным категориям:"
      ],
      "metadata": {
        "id": "qnxmfOaT4yw6"
      }
    },
    {
      "cell_type": "code",
      "source": [
        "piv_empl = pd.pivot_table(empl, \n",
        "               values='Зарплата', \n",
        "               index=['age_cat'],\n",
        "               columns=['Должность'], \n",
        "               aggfunc=np.mean)\n",
        "piv_empl"
      ],
      "metadata": {
        "colab": {
          "base_uri": "https://localhost:8080/",
          "height": 300
        },
        "id": "3dZBlLIujEgL",
        "outputId": "c50932b7-d92a-4d54-d1f6-ec3e852ad856"
      },
      "execution_count": null,
      "outputs": [
        {
          "output_type": "execute_result",
          "data": {
            "text/html": [
              "<div>\n",
              "<style scoped>\n",
              "    .dataframe tbody tr th:only-of-type {\n",
              "        vertical-align: middle;\n",
              "    }\n",
              "\n",
              "    .dataframe tbody tr th {\n",
              "        vertical-align: top;\n",
              "    }\n",
              "\n",
              "    .dataframe thead th {\n",
              "        text-align: right;\n",
              "    }\n",
              "</style>\n",
              "<table border=\"1\" class=\"dataframe\">\n",
              "  <thead>\n",
              "    <tr style=\"text-align: right;\">\n",
              "      <th>Должность</th>\n",
              "      <th>ведущий научный сотрудник</th>\n",
              "      <th>главный научный сотрудник</th>\n",
              "      <th>младший научный сотрудник</th>\n",
              "      <th>научный сотрудник</th>\n",
              "      <th>стажёр-исследователь</th>\n",
              "      <th>старший научный сотрудник</th>\n",
              "    </tr>\n",
              "    <tr>\n",
              "      <th>age_cat</th>\n",
              "      <th></th>\n",
              "      <th></th>\n",
              "      <th></th>\n",
              "      <th></th>\n",
              "      <th></th>\n",
              "      <th></th>\n",
              "    </tr>\n",
              "  </thead>\n",
              "  <tbody>\n",
              "    <tr>\n",
              "      <th>20-29</th>\n",
              "      <td>117500.000000</td>\n",
              "      <td>107142.857143</td>\n",
              "      <td>109473.684211</td>\n",
              "      <td>119687.500000</td>\n",
              "      <td>101666.666667</td>\n",
              "      <td>95000.000000</td>\n",
              "    </tr>\n",
              "    <tr>\n",
              "      <th>30-39</th>\n",
              "      <td>107241.379310</td>\n",
              "      <td>117407.407407</td>\n",
              "      <td>96206.896552</td>\n",
              "      <td>92258.064516</td>\n",
              "      <td>114137.931034</td>\n",
              "      <td>121904.761905</td>\n",
              "    </tr>\n",
              "    <tr>\n",
              "      <th>40-49</th>\n",
              "      <td>120937.500000</td>\n",
              "      <td>96800.000000</td>\n",
              "      <td>110000.000000</td>\n",
              "      <td>104000.000000</td>\n",
              "      <td>105925.925926</td>\n",
              "      <td>90714.285714</td>\n",
              "    </tr>\n",
              "    <tr>\n",
              "      <th>50-59</th>\n",
              "      <td>120370.370370</td>\n",
              "      <td>103428.571429</td>\n",
              "      <td>105000.000000</td>\n",
              "      <td>107586.206897</td>\n",
              "      <td>112666.666667</td>\n",
              "      <td>80740.740741</td>\n",
              "    </tr>\n",
              "    <tr>\n",
              "      <th>60-69</th>\n",
              "      <td>108181.818182</td>\n",
              "      <td>100645.161290</td>\n",
              "      <td>98888.888889</td>\n",
              "      <td>109310.344828</td>\n",
              "      <td>98000.000000</td>\n",
              "      <td>98148.148148</td>\n",
              "    </tr>\n",
              "    <tr>\n",
              "      <th>70-79</th>\n",
              "      <td>96842.105263</td>\n",
              "      <td>112424.242424</td>\n",
              "      <td>104642.857143</td>\n",
              "      <td>96285.714286</td>\n",
              "      <td>103000.000000</td>\n",
              "      <td>108684.210526</td>\n",
              "    </tr>\n",
              "    <tr>\n",
              "      <th>80+</th>\n",
              "      <td>111785.714286</td>\n",
              "      <td>108214.285714</td>\n",
              "      <td>105000.000000</td>\n",
              "      <td>102432.432432</td>\n",
              "      <td>116538.461538</td>\n",
              "      <td>105652.173913</td>\n",
              "    </tr>\n",
              "  </tbody>\n",
              "</table>\n",
              "</div>"
            ],
            "text/plain": [
              "Должность  ведущий научный сотрудник  ...  старший научный сотрудник\n",
              "age_cat                               ...                           \n",
              "20-29                  117500.000000  ...               95000.000000\n",
              "30-39                  107241.379310  ...              121904.761905\n",
              "40-49                  120937.500000  ...               90714.285714\n",
              "50-59                  120370.370370  ...               80740.740741\n",
              "60-69                  108181.818182  ...               98148.148148\n",
              "70-79                   96842.105263  ...              108684.210526\n",
              "80+                    111785.714286  ...              105652.173913\n",
              "\n",
              "[7 rows x 6 columns]"
            ]
          },
          "metadata": {},
          "execution_count": 154
        }
      ]
    },
    {
      "cell_type": "markdown",
      "source": [
        "Построим гистограммы:"
      ],
      "metadata": {
        "id": "93NAwHzf40gL"
      }
    },
    {
      "cell_type": "code",
      "source": [
        "x = list(empl['age_cat'].unique())\n",
        "x.sort()\n",
        "for pos in list(empl['Должность'].unique()):\n",
        "  y = list(piv_empl[pos])\n",
        "  plt.figure()\n",
        "  plt.title(pos) \n",
        "  plt.bar(x, y)"
      ],
      "metadata": {
        "colab": {
          "base_uri": "https://localhost:8080/",
          "height": 1000
        },
        "id": "Ywtu3goHoI4E",
        "outputId": "9bc8e033-f922-4856-a458-cab0108e6224"
      },
      "execution_count": null,
      "outputs": [
        {
          "output_type": "display_data",
          "data": {
            "image/png": "[encoded data removed]",
            "text/plain": [
              "<Figure size 432x288 with 1 Axes>"
            ]
          },
          "metadata": {
            "needs_background": "light"
          }
        },
        {
          "output_type": "display_data",
          "data": {
            "image/png": "[encoded data removed]",
            "text/plain": [
              "<Figure size 432x288 with 1 Axes>"
            ]
          },
          "metadata": {
            "needs_background": "light"
          }
        },
        {
          "output_type": "display_data",
          "data": {
            "image/png": "[encoded data removed]",
            "text/plain": [
              "<Figure size 432x288 with 1 Axes>"
            ]
          },
          "metadata": {
            "needs_background": "light"
          }
        },
        {
          "output_type": "display_data",
          "data": {
            "image/png": "[encoded data removed]",
            "text/plain": [
              "<Figure size 432x288 with 1 Axes>"
            ]
          },
          "metadata": {
            "needs_background": "light"
          }
        },
        {
          "output_type": "display_data",
          "data": {
            "image/png": "[encoded data removed]",
            "text/plain": [
              "<Figure size 432x288 with 1 Axes>"
            ]
          },
          "metadata": {
            "needs_background": "light"
          }
        },
        {
          "output_type": "display_data",
          "data": {
            "image/png": "[encoded data removed]",
            "text/plain": [
              "<Figure size 432x288 with 1 Axes>"
            ]
          },
          "metadata": {
            "needs_background": "light"
          }
        }
      ]
    },
    {
      "cell_type": "markdown",
      "source": [
        "У стажёров-исследователей и младших научных сотрудников зарплата действительно не сильно зависит от возраста, у главных научных и ведущих сотрудников, впрочем, тоже. У старших научных сотрудников зарплата заметно больше в 30-39 лет, чем в других возрастных категориях, у научных сотрудников – в 20-29 лет. Наше предположение оказалось отчасти верным."
      ],
      "metadata": {
        "id": "RPoS0Zuu48A6"
      }
    }
  ]
}